{
 "cells": [
  {
   "cell_type": "code",
   "execution_count": 2,
   "metadata": {
    "collapsed": true
   },
   "outputs": [],
   "source": [
    "import numpy as np\n",
    "from casadi import *\n",
    "from scipy.integrate import ode\n",
    "import matplotlib.pyplot as plt"
   ]
  },
  {
   "cell_type": "code",
   "execution_count": 3,
   "metadata": {
    "collapsed": true
   },
   "outputs": [],
   "source": [
    "##------Simple Reaction Example-------------\n",
    "#  A + B --> C\n",
    "#  Rate is given by r = kc_Ac_B \n",
    "#  There is a feed of B into the reactor for a set period of time\n",
    "# \n",
    "\n",
    "# initial concentration in reactor\n",
    "cA_0 = 2 # mol/L\n",
    "cB_0 = 0 # mol/L\n",
    "cC_0 = 0 # mol/L\n",
    "# Initial volume (L)\n",
    "Vinit = 5\n",
    "\n",
    "# B is fed to reactor over 1 hour at the rate of 1/12 L/min (5L over 60 min) \n",
    "# with concentration of 2 mol/L\n",
    "qF = 1/12 # L/min\n",
    "cB_F = 2 # mol/L\n",
    "tfeed = 60* 60 # seconds\n",
    "\n",
    "# Simulation time (sec)\n",
    "tf = 5*3600\n",
    "\n",
    "# rate constant\n",
    "k = 5e-4 # L/mol.s\n",
    "\n"
   ]
  },
  {
   "cell_type": "code",
   "execution_count": 12,
   "metadata": {},
   "outputs": [],
   "source": [
    "# Set up casadi model\n",
    "cA = MX.sym('cA')\n",
    "cB = MX.sym('cB')\n",
    "cC = MX.sym('cC')\n",
    "V = MX.sym('V')\n",
    "t = MX.sym('t')\n",
    "\n",
    "k = MX.sym('k')\n",
    "cBin = MX.sym('cBin')\n",
    "\n",
    "qin = interpolant('qin', 'linear', [np.array([0, tfeed, tfeed+60, tf])], np.array([qF / 60, qF / 60, 0, 0]))\n",
    "qin_i = qin(t)"
   ]
  },
  {
   "cell_type": "code",
   "execution_count": 13,
   "metadata": {},
   "outputs": [
    {
     "data": {
      "image/png": "[encoded data removed]",
      "text/plain": [
       "<Figure size 432x288 with 1 Axes>"
      ]
     },
     "metadata": {},
     "output_type": "display_data"
    }
   ],
   "source": [
    "# plot interpolation function\n",
    "x_t = np.arange(0, 5*3600)\n",
    "y_qin = qin(x_t)\n",
    "plt.plot(x_t, y_qin)\n",
    "plt.show()"
   ]
  },
  {
   "cell_type": "code",
   "execution_count": 14,
   "metadata": {
    "collapsed": true
   },
   "outputs": [],
   "source": [
    "x = vertcat(cA, cB, cC, V, t)\n",
    "\n",
    "p = vertcat(k, cBin)"
   ]
  },
  {
   "cell_type": "code",
   "execution_count": 15,
   "metadata": {},
   "outputs": [],
   "source": [
    "r1 = k * cA * cB\n",
    "dA = -qin_i/V * cA -r1\n",
    "dB = qin_i/V * (cBin - cB) -r1\n",
    "dC = -qin_i/V * cC + r1\n",
    "dV = qin_i\n",
    "dt = 1\n",
    "f = vertcat(dA, dB, dC, dV, dt)\n",
    "\n",
    "prob = {'x' : x, 'p' : p, 'ode' : f}"
   ]
  },
  {
   "cell_type": "code",
   "execution_count": 16,
   "metadata": {
    "collapsed": true
   },
   "outputs": [],
   "source": [
    "tinit = 0\n",
    "tfinal = 5*3600\n",
    "tgrid = np.linspace(tinit, tfinal, 60)\n",
    "pin = np.array([5e-4, 2])\n",
    "op = {'t0': tinit, 'tf' : tfinal, 'grid' : tgrid, 'output_t0' : True}\n",
    "F = integrator('F', 'cvodes', prob, op)\n",
    "x0 = [cA_0, cB_0, cC_0, Vinit, 0]\n",
    "solcas = F(x0 = x0, p = pin)"
   ]
  },
  {
   "cell_type": "code",
   "execution_count": 23,
   "metadata": {},
   "outputs": [],
   "source": [
    "solcas_x = solcas['xf'].full().T"
   ]
  },
  {
   "cell_type": "code",
   "execution_count": 26,
   "metadata": {},
   "outputs": [
    {
     "data": {
      "image/png": "[encoded data removed]",
      "text/plain": [
       "<Figure size 432x288 with 1 Axes>"
      ]
     },
     "metadata": {},
     "output_type": "display_data"
    }
   ],
   "source": [
    "plt.plot(tgrid, solcas_x[:, 0], label = \"cA\")\n",
    "plt.plot(tgrid, solcas_x[:, 1], label = \"cB\")\n",
    "plt.plot(tgrid, solcas_x[:, 2], label = \"cC\")\n",
    "plt.legend()\n",
    "plt.show()"
   ]
  },
  {
   "cell_type": "code",
   "execution_count": null,
   "metadata": {
    "collapsed": true
   },
   "outputs": [],
   "source": []
  }
 ],
 "metadata": {
  "kernelspec": {
   "display_name": "Python 3",
   "language": "python",
   "name": "python3"
  },
  "language_info": {
   "codemirror_mode": {
    "name": "ipython",
    "version": 3
   },
   "file_extension": ".py",
   "mimetype": "text/x-python",
   "name": "python",
   "nbconvert_exporter": "python",
   "pygments_lexer": "ipython3",
   "version": "3.6.7"
  }
 },
 "nbformat": 4,
 "nbformat_minor": 2
}
