{
 "cells": [
  {
   "cell_type": "code",
   "execution_count": 1,
   "metadata": {
    "collapsed": true
   },
   "outputs": [],
   "source": [
    "import numpy as np\n",
    "from casadi import *\n",
    "from scipy.integrate import ode\n",
    "import matplotlib.pyplot as plt\n",
    "from scipy.interpolate import interp1d"
   ]
  },
  {
   "cell_type": "code",
   "execution_count": 2,
   "metadata": {
    "collapsed": true
   },
   "outputs": [],
   "source": [
    "##------Simple Reaction Example-------------\n",
    "#  A + B --> C\n",
    "#  Rate is given by r = kc_Ac_B \n",
    "#  "
   ]
  },
  {
   "cell_type": "code",
   "execution_count": 3,
   "metadata": {
    "collapsed": true
   },
   "outputs": [],
   "source": [
    "##-------Semi-Batch Reaction------------------\n",
    "\n",
    "# initial concentration in reactor\n",
    "cA_0 = 2 # mol/L\n",
    "cB_0 = 0 # mol/L\n",
    "cC_0 = 0 # mol/L\n",
    "# Initial volume (L)\n",
    "Vinit = 5\n",
    "\n",
    "# B is fed to reactor over 1 hour at the rate of 1/12 L/min (5L over 60 min) \n",
    "# with concentration of 2 mol/L\n",
    "qF = 1/12 # L/min\n",
    "cB_F = 2 # mol/L\n",
    "tfeed = 60* 60 # seconds\n",
    "\n",
    "# Simulation time (sec)\n",
    "tf = 5*3600\n",
    "\n",
    "# rate constant\n",
    "k = 5e-4 # L/mol.s"
   ]
  },
  {
   "cell_type": "code",
   "execution_count": 4,
   "metadata": {
    "collapsed": true
   },
   "outputs": [],
   "source": [
    "##-------Solve using scipy---------------\n",
    "def rate(t, y, k, qF, tfeed, cB_F, Vinit):\n",
    "    \n",
    "    if t <= tfeed:\n",
    "        V = Vinit + (qF / 60) * t\n",
    "        qin = qF / 60\n",
    "        cBin = cB_F\n",
    "    else:\n",
    "        V = Vinit + (qF / 60) * tfeed\n",
    "        qin = 0\n",
    "        cBin = 0\n",
    "    \n",
    "    cA = y[0]\n",
    "    cB = y[1]\n",
    "    cC = y[2]\n",
    "    r = k * cA * cB\n",
    "    \n",
    "    dA = -(qin/V) * cA - r\n",
    "    dB = (qin/V) * (cBin - cB) - r\n",
    "    dC = -(qin/V) * cC + r\n",
    "    \n",
    "    dy = [dA, dB, dC]\n",
    "    \n",
    "    return dy"
   ]
  },
  {
   "cell_type": "code",
   "execution_count": 5,
   "metadata": {
    "collapsed": true
   },
   "outputs": [],
   "source": [
    "tgrid = np.linspace(0, tf, 100)\n",
    "sol = np.zeros((len(tgrid), 3))\n",
    "sol[0, :] = [cA_0, cB_0, cC_0]"
   ]
  },
  {
   "cell_type": "code",
   "execution_count": 6,
   "metadata": {
    "collapsed": true
   },
   "outputs": [],
   "source": [
    "r = ode(rate).set_integrator('vode', method = \"BDF\")\n",
    "r.set_initial_value([cA_0, cB_0, cC_0]).set_f_params(k, qF, tfeed, cB_F, Vinit)\n",
    "\n",
    "i = 0\n",
    "for i in range(len(tgrid) - 1):\n",
    "    t = tgrid[i]\n",
    "    dt = tgrid[i + 1] - tgrid[i]\n",
    "    sol[i + 1] = r.integrate(t + dt)"
   ]
  },
  {
   "cell_type": "code",
   "execution_count": 7,
   "metadata": {},
   "outputs": [
    {
     "data": {
      "image/png": "[encoded data removed]",
      "text/plain": [
       "<Figure size 432x288 with 1 Axes>"
      ]
     },
     "metadata": {},
     "output_type": "display_data"
    }
   ],
   "source": [
    "plt.plot(tgrid, sol[:, 0], label = \"cA\")\n",
    "plt.plot(tgrid, sol[:, 1], label = \"cB\")\n",
    "plt.plot(tgrid, sol[:, 2], label = \"cC\")\n",
    "plt.legend()\n",
    "plt.show()"
   ]
  },
  {
   "cell_type": "code",
   "execution_count": 8,
   "metadata": {
    "collapsed": true
   },
   "outputs": [],
   "source": [
    "##----------Solve using CasADi-------------------------\n",
    "cA = SX.sym('cA')\n",
    "cB = SX.sym('cB')\n",
    "cC = SX.sym('cC')\n",
    "V = SX.sym('V')\n",
    "x = vertcat(cA, cB, cC, V)\n",
    "\n",
    "k = SX.sym('k')\n",
    "qin = SX.sym('qin')\n",
    "cBin = SX.sym('cBin')\n",
    "\n",
    "p = vertcat(k, qin, cBin)"
   ]
  },
  {
   "cell_type": "code",
   "execution_count": 9,
   "metadata": {
    "collapsed": true
   },
   "outputs": [],
   "source": [
    "r1 = k * cA * cB\n",
    "dA = -qin/V * cA -r1\n",
    "dB = qin/V * (cBin - cB) -r1\n",
    "dC = -qin/V * cC + r1\n",
    "dV = qin\n",
    "f = vertcat(dA, dB, dC, dV)"
   ]
  },
  {
   "cell_type": "code",
   "execution_count": 10,
   "metadata": {
    "collapsed": true
   },
   "outputs": [],
   "source": [
    "prob = {'x' : x, 'p' : p, 'ode' : f}"
   ]
  },
  {
   "cell_type": "code",
   "execution_count": 11,
   "metadata": {
    "collapsed": true
   },
   "outputs": [],
   "source": [
    "cA_0 = 2\n",
    "cB_0 = 0\n",
    "cC_0 = 0\n",
    "Vinit = 5"
   ]
  },
  {
   "cell_type": "code",
   "execution_count": 12,
   "metadata": {},
   "outputs": [
    {
     "name": "stdout",
     "output_type": "stream",
     "text": [
      "0\n",
      "1\n"
     ]
    }
   ],
   "source": [
    "# time points where parameters change\n",
    "keytimes = [0.0, tfeed, tf]\n",
    "# paramter values for each of the above time intervals\n",
    "pin = np.array([[5e-4, 1/(12*60), 2],\n",
    "                [5e-4, 0.0, 2]\n",
    "               ])\n",
    "# solve integrator for each time interval\n",
    "for i in range(len(keytimes) - 1):\n",
    "    print(i)\n",
    "    tinit = keytimes[i]\n",
    "    tfinal = keytimes[i + 1]\n",
    "    tgrid = np.linspace(tinit, tfinal, 100)\n",
    "    op = {'t0': tinit, 'tf' : tfinal, 'grid' : tgrid, 'output_t0' : True}\n",
    "    F = integrator('F', 'cvodes', prob, op)\n",
    "    if i == 0:\n",
    "        x0 = [cA_0, cB_0, cC_0, Vinit]\n",
    "    else:\n",
    "        x0 = solcasfull[-1, :]\n",
    "    solcas = F(x0 = x0, p = pin[i,:])\n",
    "    if i == 0:\n",
    "        solcasfull = solcas['xf'].full().T\n",
    "        tfull = tgrid\n",
    "    else:\n",
    "        solcasfull = np.vstack((solcasfull, solcas['xf'].full().T))\n",
    "        tfull = np.hstack((tfull, tgrid))"
   ]
  },
  {
   "cell_type": "code",
   "execution_count": 13,
   "metadata": {},
   "outputs": [
    {
     "data": {
      "image/png": "[encoded data removed]",
      "text/plain": [
       "<Figure size 432x288 with 1 Axes>"
      ]
     },
     "metadata": {},
     "output_type": "display_data"
    }
   ],
   "source": [
    "plt.plot(tfull, solcasfull[:, 0], label = \"cA\")\n",
    "plt.plot(tfull, solcasfull[:, 1], label = \"cB\")\n",
    "plt.plot(tfull, solcasfull[:, 2], label = \"cC\")\n",
    "plt.legend()\n",
    "plt.show()"
   ]
  }
 ],
 "metadata": {
  "kernelspec": {
   "display_name": "Python 3",
   "language": "python",
   "name": "python3"
  },
  "language_info": {
   "codemirror_mode": {
    "name": "ipython",
    "version": 3
   },
   "file_extension": ".py",
   "mimetype": "text/x-python",
   "name": "python",
   "nbconvert_exporter": "python",
   "pygments_lexer": "ipython3",
   "version": "3.6.7"
  }
 },
 "nbformat": 4,
 "nbformat_minor": 2
}
