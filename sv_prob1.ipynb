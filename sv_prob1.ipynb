{
 "cells": [
  {
   "cell_type": "code",
   "execution_count": null,
   "metadata": {},
   "outputs": [],
   "source": [
    "\"\"\"\n",
    " R O N A L D\n",
    "+      A N D\n",
    "+  N A N C Y\n",
    "------------\n",
    " R E A G A N\n",
    "\"\"\""
   ]
  },
  {
   "cell_type": "code",
   "execution_count": 5,
   "metadata": {},
   "outputs": [],
   "source": [
    "import pyomo.environ as pyo"
   ]
  },
  {
   "cell_type": "code",
   "execution_count": 59,
   "metadata": {},
   "outputs": [
    {
     "name": "stdout",
     "output_type": "stream",
     "text": [
      "Set of letters\n",
      "['N', 'C', 'Y', 'G', 'A', 'R', 'E', 'D', 'L', 'O']\n",
      "Set of digits\n",
      "[0, 1, 2, 3, 4, 5, 6, 7, 8, 9]\n"
     ]
    }
   ],
   "source": [
    "# unique letters\n",
    "letters = list(set([c for c in 'RONALDANDNANCYREAGEN']))\n",
    "print('Set of letters')\n",
    "print(letters)\n",
    "\n",
    "# digits\n",
    "digits = [0, 1, 2, 3, 4, 5, 6, 7, 8, 9]\n",
    "print(\"Set of digits\")\n",
    "print(digits)"
   ]
  },
  {
   "cell_type": "code",
   "execution_count": 39,
   "metadata": {},
   "outputs": [],
   "source": [
    "# Pyomo model\n",
    "\n",
    "\n",
    "# create a model instance\n",
    "m = pyo.ConcreteModel()\n",
    "\n",
    "# decision variables\n",
    "\n",
    "m.x = pyo.Var(letters, digits, within = pyo.Binary) # binary variable if letter c is assigned digit i\n",
    "m.d = pyo.Var(letters, bounds = (0, 9), within = pyo.NonNegativeReals) # value of each letter\n",
    "m.co1 = pyo.Var(bounds = (0, 3), within = pyo.NonNegativeIntegers) # carryover after first column addition\n",
    "m.co2= pyo.Var(bounds = (0, 3), within = pyo.NonNegativeIntegers) # carryover after second column addition\n",
    "m.co3 = pyo.Var(bounds = (0, 3), within = pyo.NonNegativeIntegers) # carryover after third column addition\n",
    "m.co4 = pyo.Var(bounds = (0, 3), within = pyo.NonNegativeIntegers) # carryover after fourth column addition\n",
    "m.co5 = pyo.Var(bounds = (0, 3), within = pyo.NonNegativeIntegers) # carryover after fifth column addition\n",
    "m.y = pyo.Var(within = pyo.NonNegativeIntegers) # integer value when AND is divided by 3\n"
   ]
  },
  {
   "cell_type": "code",
   "execution_count": 40,
   "metadata": {},
   "outputs": [],
   "source": [
    "# ensure that each letter is assigned exactly one digit\n",
    "def assign_rule(m, c):\n",
    "    return sum(m.x[c, i] for i in digits) == 1\n",
    "m.assign_cons = pyo.Constraint(letters, rule = assign_rule)\n",
    "\n",
    "# ensure each digit is assigned exactly one letter\n",
    "def assign2_rule(m, i):\n",
    "    return sum(m.x[c, i] for c in letters) == 1\n",
    "m.assign2_cons = pyo.Constraint(digits, rule = assign2_rule)\n",
    "\n",
    "# calculate the value of digit\n",
    "def calcint_rule(m, c):\n",
    "    return m.d[c] == sum(i * m.x[c, i] for i in digits)\n",
    "m.calcint_cons = pyo.Constraint(letters, rule = calcint_rule)"
   ]
  },
  {
   "cell_type": "code",
   "execution_count": 41,
   "metadata": {},
   "outputs": [],
   "source": [
    "m.cons1 = pyo.Constraint(expr = m.d['D'] + m.d['D'] + m.d['Y'] == m.d['N'] + 10 * m.co1) # addition of column 1\n",
    "m.cons2 = pyo.Constraint(expr = m.co1 + m.d['L'] + m.d['N'] + m.d['C'] == m.d['A'] + 10 * m.co2) # addition of column 2\n",
    "m.cons3 = pyo.Constraint(expr = m.co2 + m.d['A'] + m.d['A'] + m.d['N'] == m.d['G'] + 10 * m.co3) # addition of column 3\n",
    "m.cons4 = pyo.Constraint(expr = m.co3 + m.d['N'] + m.d['A'] == m.d['A'] + 10 * m.co4) # addition of column 4\n",
    "m.cons5 = pyo.Constraint(expr = m.co4 + m.d['O'] + m.d['N'] == m.d['E'] + 10 * m.co5) # addition of column 5\n",
    "m.cons6 = pyo.Constraint(expr = m.co5 + m.d['R'] == m.d['R']) # addition of column 6\n",
    "m.cons8 = pyo.Constraint(expr = 100 * m.d['A'] + 10 * m.d['N'] + m.d['D'] == 3 * m.y) # ensures AND is a multiple of 3\n",
    "\n",
    "m.obj = pyo.Objective(expr = 1, sense = pyo.minimize) # dummy objective"
   ]
  },
  {
   "cell_type": "code",
   "execution_count": 42,
   "metadata": {},
   "outputs": [
    {
     "name": "stdout",
     "output_type": "stream",
     "text": [
      "WARNING: Constant objective detected, replacing with a placeholder to prevent\n",
      "    solver failure.\n",
      "GLPSOL: GLPK LP/MIP Solver, v4.65\n",
      "Parameter(s) specified in the command line:\n",
      " --write /var/folders/h0/0h0h0yrs6f76syrmv1_q13mw0000gn/T/tmpcj0fg_p8.glpk.raw\n",
      " --wglp /var/folders/h0/0h0h0yrs6f76syrmv1_q13mw0000gn/T/tmprgsxna50.glpk.glp\n",
      " --cpxlp /var/folders/h0/0h0h0yrs6f76syrmv1_q13mw0000gn/T/tmpsgxa482l.pyomo.lp\n",
      "Reading problem data from '/var/folders/h0/0h0h0yrs6f76syrmv1_q13mw0000gn/T/tmpsgxa482l.pyomo.lp'...\n",
      "/var/folders/h0/0h0h0yrs6f76syrmv1_q13mw0000gn/T/tmpsgxa482l.pyomo.lp:576: warning: lower bound of variable 'x1' redefined\n",
      "/var/folders/h0/0h0h0yrs6f76syrmv1_q13mw0000gn/T/tmpsgxa482l.pyomo.lp:576: warning: upper bound of variable 'x1' redefined\n",
      "38 rows, 117 columns, 329 non-zeros\n",
      "106 integer variables, 100 of which are binary\n",
      "676 lines were read\n",
      "Writing problem data to '/var/folders/h0/0h0h0yrs6f76syrmv1_q13mw0000gn/T/tmprgsxna50.glpk.glp'...\n",
      "526 lines were written\n",
      "GLPK Integer Optimizer, v4.65\n",
      "38 rows, 117 columns, 329 non-zeros\n",
      "106 integer variables, 100 of which are binary\n",
      "Preprocessing...\n",
      "36 rows, 114 columns, 325 non-zeros\n",
      "105 integer variables, 101 of which are binary\n",
      "Scaling...\n",
      " A: min|aij| =  1.000e+00  max|aij| =  1.000e+02  ratio =  1.000e+02\n",
      "GM: min|aij| =  3.168e-01  max|aij| =  3.156e+00  ratio =  9.961e+00\n",
      "EQ: min|aij| =  1.007e-01  max|aij| =  1.000e+00  ratio =  9.933e+00\n",
      "2N: min|aij| =  6.250e-02  max|aij| =  1.500e+00  ratio =  2.400e+01\n",
      "Constructing initial basis...\n",
      "Size of triangular part is 35\n",
      "Solving LP relaxation...\n",
      "GLPK Simplex Optimizer, v4.65\n",
      "36 rows, 114 columns, 325 non-zeros\n",
      "      0: obj =   1.000000000e+00 inf =   1.700e+01 (2)\n",
      "     23: obj =   1.000000000e+00 inf =   2.907e-15 (0)\n",
      "OPTIMAL LP SOLUTION FOUND\n",
      "Integer optimization begins...\n",
      "Long-step dual simplex will be used\n",
      "+    23: mip =     not found yet >=              -inf        (1; 0)\n",
      "+  1533: >>>>>   1.000000000e+00 >=   1.000000000e+00   0.0% (3; 384)\n",
      "+  1533: mip =   1.000000000e+00 >=     tree is empty   0.0% (0; 401)\n",
      "INTEGER OPTIMAL SOLUTION FOUND\n",
      "Time used:   0.1 secs\n",
      "Memory used: 0.2 Mb (216164 bytes)\n",
      "Writing MIP solution to '/var/folders/h0/0h0h0yrs6f76syrmv1_q13mw0000gn/T/tmpcj0fg_p8.glpk.raw'...\n",
      "164 lines were written\n"
     ]
    }
   ],
   "source": [
    "sol = pyo.SolverFactory('glpk')\n",
    "results = sol.solve(m, tee = True)"
   ]
  },
  {
   "cell_type": "code",
   "execution_count": 45,
   "metadata": {},
   "outputs": [
    {
     "name": "stdout",
     "output_type": "stream",
     "text": [
      "N - 8\n",
      "C - 2\n",
      "Y - 4\n",
      "G - 1\n",
      "A - 6\n",
      "R - 3\n",
      "E - 9\n",
      "D - 7\n",
      "L - 5\n",
      "O - 0\n"
     ]
    }
   ],
   "source": [
    "# solution\n",
    "for c in letters:\n",
    "    print(c, '-', round(m.d[c]()))"
   ]
  },
  {
   "cell_type": "code",
   "execution_count": 51,
   "metadata": {},
   "outputs": [],
   "source": [
    "def getnum(m, mystring):\n",
    "    numstr = ''\n",
    "    for c in mystring:\n",
    "        numstr = numstr + str(round(m.d[c]()))\n",
    "    return numstr"
   ]
  },
  {
   "cell_type": "code",
   "execution_count": 56,
   "metadata": {},
   "outputs": [
    {
     "data": {
      "text/plain": [
       "'308657 + 687 + 86824 = 396168'"
      ]
     },
     "execution_count": 56,
     "metadata": {},
     "output_type": "execute_result"
    }
   ],
   "source": [
    "f\"{getnum(m, 'RONALD')} + {getnum(m, 'AND')} + {getnum(m, 'NANCY')} = {getnum(m, 'REAGAN')}\""
   ]
  },
  {
   "cell_type": "code",
   "execution_count": 57,
   "metadata": {},
   "outputs": [
    {
     "data": {
      "text/plain": [
       "396168"
      ]
     },
     "execution_count": 57,
     "metadata": {},
     "output_type": "execute_result"
    }
   ],
   "source": [
    "# check the addition\n",
    "308657 + 687 + 86824"
   ]
  }
 ],
 "metadata": {
  "interpreter": {
   "hash": "40d3a090f54c6569ab1632332b64b2c03c39dcf918b08424e98f38b5ae0af88f"
  },
  "kernelspec": {
   "display_name": "Python 3.7.6 64-bit ('base': conda)",
   "language": "python",
   "name": "python3"
  },
  "language_info": {
   "codemirror_mode": {
    "name": "ipython",
    "version": 3
   },
   "file_extension": ".py",
   "mimetype": "text/x-python",
   "name": "python",
   "nbconvert_exporter": "python",
   "pygments_lexer": "ipython3",
   "version": "3.7.6"
  },
  "orig_nbformat": 4
 },
 "nbformat": 4,
 "nbformat_minor": 2
}
