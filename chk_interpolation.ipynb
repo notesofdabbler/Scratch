{
 "metadata": {
  "name": "",
  "signature": "sha256:0d9a0a9ea39eb4bd2ab55701d49f08756fdf70812a26d6276ed9ae74406b02bd"
 },
 "nbformat": 3,
 "nbformat_minor": 0,
 "worksheets": [
  {
   "cells": [
    {
     "cell_type": "code",
     "collapsed": false,
     "input": [
      "# Import numpy and scipy\n",
      "import numpy as np\n",
      "import scipy as sp\n",
      "from scipy import interpolate\n",
      "import matplotlib.pyplot as plt\n",
      "\n",
      "%matplotlib inline"
     ],
     "language": "python",
     "metadata": {},
     "outputs": [],
     "prompt_number": 58
    },
    {
     "cell_type": "code",
     "collapsed": false,
     "input": [
      "# Number of (x,y) pairs\n",
      "N = 4\n",
      "\n",
      "# Create a x array as list of N = 4 lists\n",
      "x = [[1,2,3,4,5],\n",
      "     [1,2,3,4,5],\n",
      "     [1,2,3,4,5],\n",
      "     [1,2,3,4,5]\n",
      "     ]\n",
      "print x\n",
      "print type(x)"
     ],
     "language": "python",
     "metadata": {},
     "outputs": [
      {
       "output_type": "stream",
       "stream": "stdout",
       "text": [
        "[[1, 2, 3, 4, 5], [1, 2, 3, 4, 5], [1, 2, 3, 4, 5], [1, 2, 3, 4, 5]]\n",
        "<type 'list'>\n"
       ]
      }
     ],
     "prompt_number": 59
    },
    {
     "cell_type": "code",
     "collapsed": false,
     "input": [
      "# Create a y array as list of N = 4 lists\n",
      "y = [[1,4,9,16,25],\n",
      "     [0.5,3.5,8.5,15.5,24.5],\n",
      "     [0.3,3.2,8.2,15.2,24.2],\n",
      "     [1.5,4.5,9.5,16.5,25.5]\n",
      "     ]\n",
      "print y\n",
      "print type(y)"
     ],
     "language": "python",
     "metadata": {},
     "outputs": [
      {
       "output_type": "stream",
       "stream": "stdout",
       "text": [
        "[[1, 4, 9, 16, 25], [0.5, 3.5, 8.5, 15.5, 24.5], [0.3, 3.2, 8.2, 15.2, 24.2], [1.5, 4.5, 9.5, 16.5, 25.5]]\n",
        "<type 'list'>\n"
       ]
      }
     ],
     "prompt_number": 60
    },
    {
     "cell_type": "code",
     "collapsed": false,
     "input": [
      "# Convert x to numpy array\n",
      "x2 = np.array(x)\n",
      "print x2\n",
      "print type(x2)"
     ],
     "language": "python",
     "metadata": {},
     "outputs": [
      {
       "output_type": "stream",
       "stream": "stdout",
       "text": [
        "[[1 2 3 4 5]\n",
        " [1 2 3 4 5]\n",
        " [1 2 3 4 5]\n",
        " [1 2 3 4 5]]\n",
        "<type 'numpy.ndarray'>\n"
       ]
      }
     ],
     "prompt_number": 61
    },
    {
     "cell_type": "code",
     "collapsed": false,
     "input": [
      "# convert y to numpy array\n",
      "y2 = np.array(y)\n",
      "print y2\n",
      "print type(y2)"
     ],
     "language": "python",
     "metadata": {},
     "outputs": [
      {
       "output_type": "stream",
       "stream": "stdout",
       "text": [
        "[[  1.    4.    9.   16.   25. ]\n",
        " [  0.5   3.5   8.5  15.5  24.5]\n",
        " [  0.3   3.2   8.2  15.2  24.2]\n",
        " [  1.5   4.5   9.5  16.5  25.5]]\n",
        "<type 'numpy.ndarray'>\n"
       ]
      }
     ],
     "prompt_number": 62
    },
    {
     "cell_type": "code",
     "collapsed": false,
     "input": [
      "# pick a value of x and find interpolated y value for each of the N = 4 curves\n",
      "xpick = 4.5"
     ],
     "language": "python",
     "metadata": {},
     "outputs": [],
     "prompt_number": 65
    },
    {
     "cell_type": "code",
     "collapsed": false,
     "input": [
      "# Interpolate each of the N=4 curves at point xpick\n",
      "ynew = np.zeros(N) ;\n",
      "for i in np.arange(N):\n",
      "    f = interpolate.interp1d(x2[i],y2[i])\n",
      "    ynew[i] = f(xpick)\n",
      "    print i, ynew[i]"
     ],
     "language": "python",
     "metadata": {},
     "outputs": [
      {
       "output_type": "stream",
       "stream": "stdout",
       "text": [
        "0 20.5\n",
        "1 20.0\n",
        "2 19.7\n",
        "3 21.0\n"
       ]
      }
     ],
     "prompt_number": 66
    },
    {
     "cell_type": "code",
     "collapsed": false,
     "input": [
      "# plot original data\n",
      "fig = plt.figure()\n",
      "ax = fig.add_axes([0.1,0.1,0.8,0.8])\n",
      "for i in np.arange(N):\n",
      "    ax.plot(x2[i],y2[i],'r')\n",
      "# Add interpolated data\n",
      "for i in np.arange(N):\n",
      "    ax.plot(np.array(xpick),ynew[i],'bo')"
     ],
     "language": "python",
     "metadata": {},
     "outputs": [
      {
       "metadata": {},
       "output_type": "display_data",
       "png": "[encoded data removed]",
       "text": [
        "<matplotlib.figure.Figure at 0x1206a828>"
       ]
      }
     ],
     "prompt_number": 67
    },
    {
     "cell_type": "code",
     "collapsed": false,
     "input": [],
     "language": "python",
     "metadata": {},
     "outputs": []
    }
   ],
   "metadata": {}
  }
 ]
}